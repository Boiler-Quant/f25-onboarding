{
 "cells": [
  {
   "cell_type": "code",
   "execution_count": 51,
   "id": "dbeb73f4-3cf8-43e5-b73c-a0255446b239",
   "metadata": {},
   "outputs": [],
   "source": [
    "import yfinance as yf\n",
    "import pandas as pd\n",
    "import numpy as np\n",
    "import plotly.graph_objects as go\n",
    "from plotly.subplots import make_subplots\n",
    "import pandas_ta as ta\n",
    "import plotly.io as pio\n",
    "\n",
    "pio.renderers.default = \"browser\""
   ]
  },
  {
   "cell_type": "code",
   "execution_count": 52,
   "id": "f2e67cdd-4af5-457c-b77e-cea4530c83ae",
   "metadata": {},
   "outputs": [
    {
     "name": "stderr",
     "output_type": "stream",
     "text": [
      "[*********************100%***********************]  1 of 1 completed\n"
     ]
    }
   ],
   "source": [
    "ticker = 'SPY'\n",
    "start_date = '2018-01-01'\n",
    "end_date = '2025-09-22'\n",
    "data = yf.download(ticker, start=start_date, end=end_date, auto_adjust=True)\n",
    "\n",
    "if isinstance(data.columns, pd.MultiIndex):\n",
    "    data.columns = data.columns.droplevel(1)\n",
    "data.columns = data.columns.str.lower()"
   ]
  },
  {
   "cell_type": "code",
   "execution_count": 53,
   "id": "ad8d9065-d389-46ea-9ef1-44a056a31f00",
   "metadata": {},
   "outputs": [],
   "source": [
    "data.ta.mcgd(length=14, c=1.618, append=True)\n",
    "data.ta.psar(append=True)\n",
    "data.columns = data.columns.str.lower()\n",
    "data.rename(columns={'mcgd_14': 'mcginley'}, inplace=True)\n",
    "data['parabolic_sar'] = data['psarl_0.02_0.2'].fillna(data['psars_0.02_0.2'])"
   ]
  },
  {
   "cell_type": "code",
   "execution_count": 54,
   "id": "901f5fef-05a1-46fc-9a56-bf1e217ab15e",
   "metadata": {},
   "outputs": [],
   "source": [
    "data.dropna(subset=['mcginley', 'parabolic_sar'], inplace=True)\n",
    "\n",
    "data['regime'] = np.where(data['close'] > data['mcginley'], 1, -1)\n",
    "sar_position = pd.Series(np.where(data['close'] > data['parabolic_sar'], 1, -1), index=data.index)\n",
    "data['sar_flip'] = sar_position.diff()\n",
    "data['signal'] = 0\n",
    "data.loc[(data['regime'] == 1) & (data['sar_flip'] > 0), 'signal'] = 1\n",
    "data.loc[(data['regime'] == -1) & (data['sar_flip'] < 0), 'signal'] = -1\n",
    "position = pd.Series(np.nan, index=data.index)\n",
    "position.loc[data['signal'] != 0] = data['signal']\n",
    "position.loc[(data['signal'] == 0) & (data['sar_flip'] != 0)] = 0\n",
    "data['position'] = position.ffill().fillna(0)"
   ]
  },
  {
   "cell_type": "code",
   "execution_count": 55,
   "id": "98502547-9325-4c15-b71b-1aaee5170ad5",
   "metadata": {},
   "outputs": [],
   "source": [
    "initial_capital = 100000.0\n",
    "data['market_return'] = data['close'].pct_change()\n",
    "data['strategy_return'] = data['position'].shift(1) * data['market_return']\n",
    "data['equity_curve'] = (1 + data['strategy_return']).cumprod() * initial_capital\n",
    "data['buy_hold_curve'] = (1 + data['market_return']).cumprod() * initial_capital"
   ]
  },
  {
   "cell_type": "code",
   "execution_count": 56,
   "id": "faef13e5-ed1d-43e9-a57f-868f12d360c4",
   "metadata": {},
   "outputs": [
    {
     "name": "stdout",
     "output_type": "stream",
     "text": [
      "--- Performance Results ---\n",
      "Strategy Final Portfolio Value: $148,667.90\n",
      "Buy & Hold Final Portfolio Value: $277,218.60\n",
      "Strategy Total Return: 48.67%\n",
      "Buy & Hold Total Return: 177.22%\n",
      "Strategy Sharpe Ratio: 0.40\n",
      "Strategy Maximum Drawdown: -24.52%\n"
     ]
    }
   ],
   "source": [
    "data.fillna(0, inplace=True)\n",
    "total_return_strategy = (data['equity_curve'].iloc[-1] / initial_capital) - 1\n",
    "total_return_bh = (data['buy_hold_curve'].iloc[-1] / initial_capital) - 1\n",
    "sharpe_ratio = (data['strategy_return'].mean() / (data['strategy_return'].std() + 1e-9)) * np.sqrt(252)\n",
    "peak = data['equity_curve'].cummax()\n",
    "drawdown = (data['equity_curve'] - peak) / peak\n",
    "max_drawdown = drawdown.min()\n",
    "\n",
    "print(f\"--- Performance Results ---\")\n",
    "print(f\"Strategy Final Portfolio Value: ${data['equity_curve'].iloc[-1]:,.2f}\")\n",
    "print(f\"Buy & Hold Final Portfolio Value: ${data['buy_hold_curve'].iloc[-1]:,.2f}\")\n",
    "print(f\"Strategy Total Return: {total_return_strategy:.2%}\")\n",
    "print(f\"Buy & Hold Total Return: {total_return_bh:.2%}\")\n",
    "print(f\"Strategy Sharpe Ratio: {sharpe_ratio:.2f}\")\n",
    "print(f\"Strategy Maximum Drawdown: {max_drawdown:.2%}\")"
   ]
  },
  {
   "cell_type": "code",
   "execution_count": 58,
   "id": "4f985f6c-8814-4890-a2ab-c2ec327c245d",
   "metadata": {},
   "outputs": [],
   "source": [
    "fig = make_subplots(rows=2, cols=1, shared_xaxes=True, vertical_spacing=0.1,\n",
    "                    subplot_titles=('SPY Price with Trading Signals', 'Strategy Performance vs. Buy & Hold'))\n",
    "\n",
    "fig.add_trace(go.Scatter(x=data.index, y=data['close'], name='SPY Close', line=dict(color='black')), row=1, col=1)\n",
    "fig.add_trace(go.Scatter(x=data.index, y=data['mcginley'], name='McGinley Dynamic', line=dict(color='blue', dash='dash')), row=1, col=1)\n",
    "fig.add_trace(go.Scatter(x=data.index, y=data['parabolic_sar'], name='Parabolic SAR', mode='markers', marker=dict(color='grey', size=3)), row=1, col=1)\n",
    "buy_signals = data[data['signal'] == 1]\n",
    "fig.add_trace(go.Scatter(x=buy_signals.index, y=buy_signals['close'], name='Buy Signal', mode='markers',\n",
    "                         marker=dict(color='green', symbol='triangle-up', size=10)), row=1, col=1)\n",
    "sell_signals = data[data['signal'] == -1]\n",
    "fig.add_trace(go.Scatter(x=sell_signals.index, y=sell_signals['close'], name='Short Signal', mode='markers',\n",
    "                          marker=dict(color='red', symbol='triangle-down', size=10)), row=1, col=1)\n",
    "fig.add_trace(go.Scatter(x=data.index, y=data['equity_curve'], name='Strategy Equity Curve', line=dict(color='blue')), row=2, col=1)\n",
    "fig.add_trace(go.Scatter(x=data.index, y=data['buy_hold_curve'], name='Buy & Hold Curve', line=dict(color='orange', dash='dash')), row=2, col=1)\n",
    "fig.update_layout(height=800, title_text='McGinley Dynamic + Parabolic SAR Strategy Analysis', template='plotly_white')\n",
    "\n",
    "fig.show()"
   ]
  },
  {
   "cell_type": "code",
   "execution_count": null,
   "id": "6400e4b3-9202-4055-8a65-925d1c691cb0",
   "metadata": {},
   "outputs": [],
   "source": []
  }
 ],
 "metadata": {
  "kernelspec": {
   "display_name": "Python 3 (ipykernel)",
   "language": "python",
   "name": "python3"
  },
  "language_info": {
   "codemirror_mode": {
    "name": "ipython",
    "version": 3
   },
   "file_extension": ".py",
   "mimetype": "text/x-python",
   "name": "python",
   "nbconvert_exporter": "python",
   "pygments_lexer": "ipython3",
   "version": "3.13.3"
  }
 },
 "nbformat": 4,
 "nbformat_minor": 5
}
